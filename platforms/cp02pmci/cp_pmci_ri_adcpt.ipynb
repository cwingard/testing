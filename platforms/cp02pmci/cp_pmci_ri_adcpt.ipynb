{
 "metadata": {
  "name": "",
  "signature": "sha256:01f44e876541ad11138f30d46edd312b5a220983a7aa53787e0a9e67ff88f4e0"
 },
 "nbformat": 3,
 "nbformat_minor": 0,
 "worksheets": [
  {
   "cells": [
    {
     "cell_type": "code",
     "collapsed": false,
     "input": [
      "# enable inline plotting\n",
      "%matplotlib inline\n",
      "\n",
      "# import main python modules\n",
      "import sys\n",
      "import os\n",
      "import numpy as np\n",
      "import pprint as pp\n",
      "import matplotlib.pyplot as plt\n",
      "\n",
      "# Add ion-functions to the search path, and add the local testing directory\n",
      "sys.path[0:0] = [\n",
      "    '/home/chris/dev/code/ion-functions',\n",
      "    '/home/chris/dev/code/ion-functions/eggs/scipy-0.11.0-py2.7-linux-x86_64.egg',\n",
      "    '/home/chris/dev/code/ion-functions/eggs/geomag-0.9-py2.7.egg',\n",
      "    '/home/chris/dev/code/ion-functions/eggs/pygsw-0.0.10-py2.7-linux-x86_64.egg',\n",
      "    '/home/chris/dev/code/ion-functions/eggs/numexpr-2.1-py2.7-linux-x86_64.egg',\n",
      "    ]\n",
      "sys.path.append(os.path.dirname(os.getcwd()))\n",
      "\n",
      "# load the OOI Tool Kit\n",
      "from ooitk.session import ERDDAPSession\n",
      "\n",
      "# set the dataset url and open a session to download data for testing and plotting -- CP02PMCI, ADCPT-G\n",
      "erddap = 'http://r2-erddap-prod.oceanobservatories.org:8080/erddap/tabledap/data7351f78f313c4010be85992fc761ac39.html'\n",
      "session = ERDDAPSession(erddap)\n",
      "session.open()"
     ],
     "language": "python",
     "metadata": {},
     "outputs": [],
     "prompt_number": 1
    },
    {
     "cell_type": "code",
     "collapsed": false,
     "input": [
      "# list the available variables\n",
      "od = session.variables   # returns an OrderedDict, which is kinda hard to read...\n",
      "pp.pprint(dict(od.items()))   # so pretty-print it"
     ],
     "language": "python",
     "metadata": {},
     "outputs": [
      {
       "output_type": "stream",
       "stream": "stdout",
       "text": [
        "{u'adcps_jln_bins': <netCDF4.Variable object at 0x3c75710>,\n",
        " u'adcps_jln_component1': <netCDF4.Variable object at 0x3c75a70>,\n",
        " u'adcps_jln_component2': <netCDF4.Variable object at 0x3c75b00>,\n",
        " u'adcps_jln_component3': <netCDF4.Variable object at 0x3c75b90>,\n",
        " u'adcps_jln_component4': <netCDF4.Variable object at 0x3c75c20>,\n",
        " u'adcps_jln_day': <netCDF4.Variable object at 0x3c75cb0>,\n",
        " u'adcps_jln_eastward_seawater_velocity': <netCDF4.Variable object at 0x3c75d40>,\n",
        " u'adcps_jln_error_velocity': <netCDF4.Variable object at 0x3c75dd0>,\n",
        " u'adcps_jln_fw_rev': <netCDF4.Variable object at 0x3c75e60>,\n",
        " u'adcps_jln_fw_vers': <netCDF4.Variable object at 0x3c75ef0>,\n",
        " u'adcps_jln_heading': <netCDF4.Variable object at 0x3c75f80>,\n",
        " u'adcps_jln_hour': <netCDF4.Variable object at 0x3cc3050>,\n",
        " u'adcps_jln_hsec': <netCDF4.Variable object at 0x3cc30e0>,\n",
        " u'adcps_jln_minute': <netCDF4.Variable object at 0x3cc3170>,\n",
        " u'adcps_jln_month': <netCDF4.Variable object at 0x3cc3200>,\n",
        " u'adcps_jln_northward_seawater_velocity': <netCDF4.Variable object at 0x3cc3290>,\n",
        " u'adcps_jln_number': <netCDF4.Variable object at 0x3cc3320>,\n",
        " u'adcps_jln_pitch': <netCDF4.Variable object at 0x3cc33b0>,\n",
        " u'adcps_jln_pressure': <netCDF4.Variable object at 0x3cc3440>,\n",
        " u'adcps_jln_record': <netCDF4.Variable object at 0x3cc34d0>,\n",
        " u'adcps_jln_roll': <netCDF4.Variable object at 0x3cc3560>,\n",
        " u'adcps_jln_second': <netCDF4.Variable object at 0x3cc35f0>,\n",
        " u'adcps_jln_startbin': <netCDF4.Variable object at 0x3cc3680>,\n",
        " u'adcps_jln_temp': <netCDF4.Variable object at 0x3cc3710>,\n",
        " u'adcps_jln_unit_id': <netCDF4.Variable object at 0x3cc37a0>,\n",
        " u'adcps_jln_upward_seawater_velocity': <netCDF4.Variable object at 0x3cc3830>,\n",
        " u'adcps_jln_year': <netCDF4.Variable object at 0x3cc38c0>,\n",
        " u'cc_depth': <netCDF4.Variable object at 0x3cc3950>,\n",
        " u'cc_latitude': <netCDF4.Variable object at 0x3cc39e0>,\n",
        " u'cc_longitude': <netCDF4.Variable object at 0x3cc3a70>,\n",
        " u'driver_timestamp': <netCDF4.Variable object at 0x3cc3b00>,\n",
        " u'ingestion_timestamp': <netCDF4.Variable object at 0x3cc3b90>,\n",
        " u'internal_timestamp': <netCDF4.Variable object at 0x3cc3c20>,\n",
        " u'preferred_timestamp': <netCDF4.Variable object at 0x3cc3cb0>,\n",
        " u'time': <netCDF4.Variable object at 0x3cc3d40>}\n"
       ]
      }
     ],
     "prompt_number": 2
    },
    {
     "cell_type": "code",
     "collapsed": false,
     "input": [
      "# assign session variables to local variables \n",
      "time = session.variables['time'][:]\n",
      "pressure = session.variables['adcps_jln_pressure'][:]\n",
      "north = session.variables['adcps_jln_northward_seawater_velocity'][:]"
     ],
     "language": "python",
     "metadata": {},
     "outputs": [],
     "prompt_number": 3
    },
    {
     "cell_type": "code",
     "collapsed": false,
     "input": [
      "time"
     ],
     "language": "python",
     "metadata": {},
     "outputs": [
      {
       "metadata": {},
       "output_type": "pyout",
       "prompt_number": 4,
       "text": [
        "array([  1.39768650e+09,   1.39768740e+09,   1.39768830e+09, ...,\n",
        "         1.40239440e+09,   1.40239530e+09,   1.40239620e+09])"
       ]
      }
     ],
     "prompt_number": 4
    },
    {
     "cell_type": "code",
     "collapsed": false,
     "input": [
      "pressure"
     ],
     "language": "python",
     "metadata": {},
     "outputs": [
      {
       "metadata": {},
       "output_type": "pyout",
       "prompt_number": 5,
       "text": [
        "array([  -682,   -812,   2913, ..., 107635, 107488, 107471], dtype=int32)"
       ]
      }
     ],
     "prompt_number": 5
    },
    {
     "cell_type": "code",
     "collapsed": false,
     "input": [
      "north"
     ],
     "language": "python",
     "metadata": {},
     "outputs": [
      {
       "metadata": {},
       "output_type": "pyout",
       "prompt_number": 6,
       "text": [
        "masked_array(data =\n",
        " [['3' '9' '.' ..., '4' '1' '5']\n",
        " ['3' '9' '.' ..., '4' '1' '5']\n",
        " ['3' '9' '.' ..., '4' '1' '5']\n",
        " ..., \n",
        " ['3' '9' '.' ..., '9' '7' '8']\n",
        " ['3' '9' '.' ..., '9' '7' '8']\n",
        " ['3' '9' '.' ..., '9' '7' '8']],\n",
        "             mask =\n",
        " [[False False False ..., False False False]\n",
        " [False False False ..., False False False]\n",
        " [False False False ..., False False False]\n",
        " ..., \n",
        " [False False False ..., False False False]\n",
        " [False False False ..., False False False]\n",
        " [False False False ..., False False False]],\n",
        "       fill_value = )"
       ]
      }
     ],
     "prompt_number": 6
    },
    {
     "cell_type": "code",
     "collapsed": false,
     "input": [],
     "language": "python",
     "metadata": {},
     "outputs": []
    }
   ],
   "metadata": {}
  }
 ]
}