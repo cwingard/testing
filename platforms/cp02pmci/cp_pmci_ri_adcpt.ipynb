{
 "metadata": {
  "name": "",
  "signature": "sha256:7accdb433c3c8f954793300b5e65820e58ccdfaa8b4d0420afa2e70cf50381a9"
 },
 "nbformat": 3,
 "nbformat_minor": 0,
 "worksheets": [
  {
   "cells": [
    {
     "cell_type": "code",
     "collapsed": false,
     "input": [
      "# Magic!\n",
      "%pylab --no-import-all inline"
     ],
     "language": "python",
     "metadata": {},
     "outputs": [
      {
       "output_type": "stream",
       "stream": "stdout",
       "text": [
        "Populating the interactive namespace from numpy and matplotlib\n"
       ]
      }
     ],
     "prompt_number": 8
    },
    {
     "cell_type": "code",
     "collapsed": false,
     "input": [
      "# import main python modules\n",
      "import os\n",
      "import pprint as pp\n",
      "import sys\n",
      "\n",
      "# Add ion-functions to the search path, and add the local testing directory\n",
      "sys.path[0:0] = [\n",
      "    '/home/chris/dev/code/ion-functions',\n",
      "    '/home/chris/dev/code/ion-functions/eggs/scipy-0.11.0-py2.7-linux-x86_64.egg',\n",
      "    '/home/chris/dev/code/ion-functions/eggs/geomag-0.9-py2.7.egg',\n",
      "    '/home/chris/dev/code/ion-functions/eggs/pygsw-0.0.10-py2.7-linux-x86_64.egg',\n",
      "    '/home/chris/dev/code/ion-functions/eggs/numexpr-2.1-py2.7-linux-x86_64.egg',\n",
      "    ]\n",
      "sys.path.append(os.path.dirname(os.getcwd()))\n",
      "\n",
      "# load the OOI Tool Kit\n",
      "from ooitk.session import ERDDAPSession\n",
      "\n",
      "# set the dataset url and open a session to download data for testing and plotting -- CP02PMCI, ADCPT-G\n",
      "erddap = 'http://r2-erddap-prod.oceanobservatories.org:8080/erddap/tabledap/data7351f78f313c4010be85992fc761ac39.html'\n",
      "session = ERDDAPSession(erddap)\n",
      "session.open()"
     ],
     "language": "python",
     "metadata": {},
     "outputs": [],
     "prompt_number": 9
    },
    {
     "cell_type": "code",
     "collapsed": false,
     "input": [
      "# list the available variables\n",
      "od = session.variables   # returns an OrderedDict, which is kinda hard to read...\n",
      "pp.pprint(dict(od.items()))   # so pretty-print it"
     ],
     "language": "python",
     "metadata": {},
     "outputs": [
      {
       "output_type": "stream",
       "stream": "stdout",
       "text": [
        "{u'adcps_jln_bins': <netCDF4.Variable object at 0x2d200e0>,\n",
        " u'adcps_jln_component1': <netCDF4.Variable object at 0x2d20200>,\n",
        " u'adcps_jln_component2': <netCDF4.Variable object at 0x2d20290>,\n",
        " u'adcps_jln_component3': <netCDF4.Variable object at 0x2d20320>,\n",
        " u'adcps_jln_component4': <netCDF4.Variable object at 0x2d203b0>,\n",
        " u'adcps_jln_day': <netCDF4.Variable object at 0x2d20440>,\n",
        " u'adcps_jln_eastward_seawater_velocity': <netCDF4.Variable object at 0x2d204d0>,\n",
        " u'adcps_jln_error_velocity': <netCDF4.Variable object at 0x2d20560>,\n",
        " u'adcps_jln_fw_rev': <netCDF4.Variable object at 0x2d205f0>,\n",
        " u'adcps_jln_fw_vers': <netCDF4.Variable object at 0x2d20680>,\n",
        " u'adcps_jln_heading': <netCDF4.Variable object at 0x2d20710>,\n",
        " u'adcps_jln_hour': <netCDF4.Variable object at 0x2d207a0>,\n",
        " u'adcps_jln_hsec': <netCDF4.Variable object at 0x2d20830>,\n",
        " u'adcps_jln_minute': <netCDF4.Variable object at 0x2d208c0>,\n",
        " u'adcps_jln_month': <netCDF4.Variable object at 0x2d20950>,\n",
        " u'adcps_jln_northward_seawater_velocity': <netCDF4.Variable object at 0x2d209e0>,\n",
        " u'adcps_jln_number': <netCDF4.Variable object at 0x2d20a70>,\n",
        " u'adcps_jln_pitch': <netCDF4.Variable object at 0x2d20b00>,\n",
        " u'adcps_jln_pressure': <netCDF4.Variable object at 0x2d20b90>,\n",
        " u'adcps_jln_record': <netCDF4.Variable object at 0x2d20c20>,\n",
        " u'adcps_jln_roll': <netCDF4.Variable object at 0x2d20cb0>,\n",
        " u'adcps_jln_second': <netCDF4.Variable object at 0x2d20d40>,\n",
        " u'adcps_jln_startbin': <netCDF4.Variable object at 0x2d20dd0>,\n",
        " u'adcps_jln_temp': <netCDF4.Variable object at 0x2d20e60>,\n",
        " u'adcps_jln_unit_id': <netCDF4.Variable object at 0x2d20ef0>,\n",
        " u'adcps_jln_upward_seawater_velocity': <netCDF4.Variable object at 0x2d20f80>,\n",
        " u'adcps_jln_year': <netCDF4.Variable object at 0x2d23050>,\n",
        " u'cc_depth': <netCDF4.Variable object at 0x2d230e0>,\n",
        " u'cc_latitude': <netCDF4.Variable object at 0x2d23170>,\n",
        " u'cc_longitude': <netCDF4.Variable object at 0x2d23200>,\n",
        " u'driver_timestamp': <netCDF4.Variable object at 0x2d23290>,\n",
        " u'ingestion_timestamp': <netCDF4.Variable object at 0x2d23320>,\n",
        " u'internal_timestamp': <netCDF4.Variable object at 0x2d233b0>,\n",
        " u'preferred_timestamp': <netCDF4.Variable object at 0x2d23440>,\n",
        " u'time': <netCDF4.Variable object at 0x2d234d0>}\n"
       ]
      }
     ],
     "prompt_number": 10
    },
    {
     "cell_type": "code",
     "collapsed": false,
     "input": [
      "# assign session variables to local variables \n",
      "time = session.variables['time'][:]\n",
      "pressure = session.variables['adcps_jln_pressure'][:]\n",
      "north = session.variables['adcps_jln_northward_seawater_velocity'][:]"
     ],
     "language": "python",
     "metadata": {},
     "outputs": [],
     "prompt_number": 11
    },
    {
     "cell_type": "code",
     "collapsed": false,
     "input": [
      "time"
     ],
     "language": "python",
     "metadata": {},
     "outputs": [
      {
       "metadata": {},
       "output_type": "pyout",
       "prompt_number": 12,
       "text": [
        "array([  1.39768650e+09,   1.39768740e+09,   1.39768830e+09, ...,\n",
        "         1.40249250e+09,   1.40249340e+09,   1.40249430e+09])"
       ]
      }
     ],
     "prompt_number": 12
    },
    {
     "cell_type": "code",
     "collapsed": false,
     "input": [
      "pressure"
     ],
     "language": "python",
     "metadata": {},
     "outputs": [
      {
       "metadata": {},
       "output_type": "pyout",
       "prompt_number": 13,
       "text": [
        "array([  -682,   -812,   2913, ..., 106913, 107046, 107147], dtype=int32)"
       ]
      }
     ],
     "prompt_number": 13
    },
    {
     "cell_type": "code",
     "collapsed": false,
     "input": [
      "north"
     ],
     "language": "python",
     "metadata": {},
     "outputs": [
      {
       "metadata": {},
       "output_type": "pyout",
       "prompt_number": 14,
       "text": [
        "masked_array(data =\n",
        " [['3' '9' '.' ..., '4' '1' '5']\n",
        " ['3' '9' '.' ..., '4' '1' '5']\n",
        " ['3' '9' '.' ..., '4' '1' '5']\n",
        " ..., \n",
        " ['3' '9' '.' ..., '0' '6' '7']\n",
        " ['3' '9' '.' ..., '0' '6' '7']\n",
        " ['3' '9' '.' ..., '0' '6' '7']],\n",
        "             mask =\n",
        " [[False False False ..., False False False]\n",
        " [False False False ..., False False False]\n",
        " [False False False ..., False False False]\n",
        " ..., \n",
        " [False False False ..., False False False]\n",
        " [False False False ..., False False False]\n",
        " [False False False ..., False False False]],\n",
        "       fill_value = )"
       ]
      }
     ],
     "prompt_number": 14
    },
    {
     "cell_type": "raw",
     "metadata": {},
     "source": [
      "What is this?"
     ]
    },
    {
     "cell_type": "code",
     "collapsed": false,
     "input": [],
     "language": "python",
     "metadata": {},
     "outputs": [],
     "prompt_number": 14
    }
   ],
   "metadata": {}
  }
 ]
}