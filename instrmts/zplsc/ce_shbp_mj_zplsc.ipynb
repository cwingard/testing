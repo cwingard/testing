{
 "metadata": {
  "name": "",
  "signature": "sha256:58be416b1569f603d2481847b57b73b74f494577d2b92abedd176c1b5fdecca1"
 },
 "nbformat": 3,
 "nbformat_minor": 0,
 "worksheets": [
  {
   "cells": [
    {
     "cell_type": "markdown",
     "metadata": {},
     "source": [
      "# ZPLSC Simple Proof-of-Concept\n",
      "\n",
      "Illustrates the process of ingesting a Simrad EK60 Scientific echo sounder .RAW file for plotting as an echogram."
     ]
    },
    {
     "cell_type": "code",
     "collapsed": false,
     "input": [
      "# Magic happens!\n",
      "%pylab --no-import-all tk"
     ],
     "language": "python",
     "metadata": {},
     "outputs": [
      {
       "output_type": "stream",
       "stream": "stdout",
       "text": [
        "Populating the interactive namespace from numpy and matplotlib\n"
       ]
      }
     ],
     "prompt_number": 1
    },
    {
     "cell_type": "code",
     "collapsed": false,
     "input": [
      "# import main python modules\n",
      "import os\n",
      "import re\n",
      "import sys\n",
      "\n",
      "from struct import unpack\n",
      "\n",
      "# add the local testing directory to the path\n",
      "sys.path.append(os.path.dirname(os.getcwd()))"
     ],
     "language": "python",
     "metadata": {},
     "outputs": [],
     "prompt_number": 2
    },
    {
     "cell_type": "code",
     "collapsed": false,
     "input": [
      "# create modules to read the datagrams contained in the raw file\n",
      "def readconfiguration(chunk):\n",
      "    '''\n",
      "    Reads the EK60 raw data file configuration header information\n",
      "    '''\n",
      "    fmt = '<128c128c128c128ci'\n",
      "    return (survey_name, transect_name, sounder_name, \n",
      "            spare, transducer_count) = unpack(fmt, chunk) \n",
      "\n",
      "\n",
      "def readnmea(fid):\n",
      "    return true\n",
      "\n",
      "\n",
      "def readannotation(fid):\n",
      "    return true\n",
      "\n",
      "\n",
      "def readsample(fid):\n",
      "    return true\n",
      "\n",
      "\n"
     ],
     "language": "python",
     "metadata": {},
     "outputs": [],
     "prompt_number": 3
    },
    {
     "cell_type": "code",
     "collapsed": false,
     "input": [],
     "language": "python",
     "metadata": {},
     "outputs": [],
     "prompt_number": 4
    },
    {
     "cell_type": "code",
     "collapsed": false,
     "input": [],
     "language": "python",
     "metadata": {},
     "outputs": []
    }
   ],
   "metadata": {}
  }
 ]
}